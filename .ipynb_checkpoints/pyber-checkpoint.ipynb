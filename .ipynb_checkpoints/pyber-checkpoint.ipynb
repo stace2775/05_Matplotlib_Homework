{
 "cells": [
  {
   "cell_type": "code",
   "execution_count": null,
   "metadata": {},
   "outputs": [],
   "source": [
    "#Description:\n",
    "#   Pyber Matplotlib Homework using Pandas Library and Jupyter Notebook. \n",
    "#   Show multiple plots described by comments in each section.  \n",
    "#\n",
    "#Modification History:\n",
    "#   DD-MMM-YYY  Author          Description\n",
    "#   26-06-2019  Stacey Smith    INITIAL CREATION\n",
    "\n",
    "\n",
    "\n",
    "#Written description of three observable trends based on the data:\n",
    "#   1.  Urban areas accounted for a significant amount of total fare amount, drivers, and rides.\n",
    "#   2.  There are more rural drivers per rural riders than in other areas.\n",
    "#   3.  Rural and suburban riders pay more per ride than in urban areas. "
   ]
  },
  {
   "cell_type": "code",
   "execution_count": null,
   "metadata": {},
   "outputs": [],
   "source": [
    "%matplotlib inline\n",
    "\n",
    "# Dependencies and Setup\n",
    "import matplotlib.pyplot as plt\n",
    "import pandas as pd\n",
    "import numpy as np\n",
    "\n",
    "# File to Load (Remember to change these)\n",
    "city_path = \"Resources/city_data.csv\"\n",
    "ride_path = \"Resources/ride_data.csv\"\n",
    "\n",
    "# Read the City and Ride Data\n",
    "city_df = pd.read_csv(city_path, encoding=\"ISO-8859-1\")\n",
    "ride_df = pd.read_csv(ride_path, encoding=\"ISO-8859-1\")\n",
    "\n",
    "# Combine the data into a single dataset\n",
    "pyber_df = pd.merge(city_df, ride_df, on=\"city\")\n",
    "\n",
    "# Display the data table for preview\n",
    "pyber_df.head()"
   ]
  },
  {
   "cell_type": "code",
   "execution_count": null,
   "metadata": {},
   "outputs": [],
   "source": [
    "#clean up data if needed\n",
    "pyber_df['type'].value_counts()\n",
    "\n",
    "#pyber_df.count()"
   ]
  },
  {
   "cell_type": "markdown",
   "metadata": {},
   "source": [
    "## Bubble Plot of Ride Sharing Data"
   ]
  },
  {
   "cell_type": "code",
   "execution_count": null,
   "metadata": {},
   "outputs": [],
   "source": [
    "#Looking at the total number of rides per city and average fare\n",
    "#Obtain the x and y coordinates for each of the three city types\n",
    "#\n",
    "#For this plot, I need to know each city's type, the total number of rides per city, the average fare per city\n",
    "#The x axis will show the total number of rides per  (xrides)\n",
    "#The y axis will show the avg fare per city (xavg_fare)\n",
    "#The circle size correlates with driver count per city (xdriver)\n",
    "\n",
    "utype = pyber_df[pyber_df['type']=='Urban']\n",
    "ucities = utype.groupby([pyber_df['city']])\n",
    "urides = ucities['fare'].count()\n",
    "uavg_fare = ucities['fare'].mean()\n",
    "udriver = ucities['driver_count'].mean()\n",
    "\n",
    "stype = pyber_df[pyber_df['type']=='Suburban']\n",
    "scities = stype.groupby([pyber_df['city']])\n",
    "srides = scities['fare'].count()\n",
    "savg_fare = scities['fare'].mean()\n",
    "sdriver = scities['driver_count'].mean()\n",
    "\n",
    "rtype = pyber_df[pyber_df['type']=='Rural']\n",
    "rcities = rtype.groupby([pyber_df['city']])\n",
    "rrides = rcities['fare'].count()\n",
    "ravg_fare = rcities['fare'].mean()\n",
    "rdriver = rcities['driver_count'].mean()    "
   ]
  },
  {
   "cell_type": "code",
   "execution_count": null,
   "metadata": {},
   "outputs": [],
   "source": [
    "#Build the scatter plots for each city types\n",
    "plt.scatter(urides, uavg_fare, marker=\"o\", facecolors=\"coral\", edgecolors=\"black\", alpha=0.75, s=udriver*5, label='Urban') \n",
    "plt.scatter(rrides, ravg_fare, marker=\"o\", facecolors=\"gold\", edgecolors=\"black\", alpha=1, s=rdriver*5, label='Rural') \n",
    "plt.scatter(srides, savg_fare, marker=\"o\", facecolors=\"skyblue\", edgecolors=\"black\", alpha=0.75, s=sdriver*5, label='Suburban') \n",
    "\n",
    "#Incorporate the other graph properties\n",
    "plt.grid()\n",
    "\n",
    "plt.xlabel(\"Total Number of Rides (Per City)\")\n",
    "plt.ylabel(\"Average Fare ($)\")\n",
    "plt.title(\"Pyber Ride Sharing Data (2018)\")\n",
    "\n",
    "#Create a legend\n",
    "legend = plt.legend(fontsize = 8, title= \"City Types\", loc=\"best\") \n",
    "legend.legendHandles[0]._sizes = [35]\n",
    "legend.legendHandles[1]._sizes = [35]\n",
    "legend.legendHandles[2]._sizes = [35]\n",
    "\n",
    "#Incorporate a text label regarding circle size\n",
    "plt.text(42,35,\"Note: \\nCircle size correlates with driver count per city.\", fontsize = 10)\n",
    "\n",
    "#Save Figure\n",
    "plt.savefig(\"Images/PyberRideSharingData.png\", bbox_inches=\"tight\")\n",
    "\n",
    "#Show plot\n",
    "plt.show()"
   ]
  },
  {
   "cell_type": "markdown",
   "metadata": {},
   "source": [
    "## Total Fares by City Type"
   ]
  },
  {
   "cell_type": "code",
   "execution_count": null,
   "metadata": {},
   "outputs": [],
   "source": [
    "#Calculate Type Percents \n",
    "#grand_total = pyber_df['fare'].sum()\n",
    "\n",
    "city_type = pyber_df.groupby(['type'])\n",
    "city_sums = city_type['fare'].sum()"
   ]
  },
  {
   "cell_type": "code",
   "execution_count": null,
   "metadata": {},
   "outputs": [],
   "source": [
    "#Build Pie Chart\n",
    "\n",
    "labels = [\"Rural\", \"Suburban\", \"Urban\"]\n",
    "\n",
    "colors = [\"gold\", \"skyblue\", \"coral\"]\n",
    "\n",
    "explode = (0, 0, 0.1)\n",
    "\n",
    "plt.pie(city_sums, explode=explode, labels=labels, colors=colors, autopct=\"%1.1f%%\", shadow=True, startangle=140)\n",
    "\n",
    "plt.axis(\"equal\")\n",
    "\n",
    "plt.title(\"% of Total Fares by City Type\")\n",
    "\n",
    "# Save Figure\n",
    "plt.savefig(\"Images/TotalFaresByCityType.png\", bbox_inches=\"tight\")\n",
    "\n",
    "#Show plot\n",
    "plt.show()"
   ]
  },
  {
   "cell_type": "markdown",
   "metadata": {},
   "source": [
    "## Total Rides by City Type"
   ]
  },
  {
   "cell_type": "code",
   "execution_count": null,
   "metadata": {},
   "outputs": [],
   "source": [
    "#Calculate Ride Percents\n",
    "city_rides = city_type['fare'].count()\n"
   ]
  },
  {
   "cell_type": "code",
   "execution_count": null,
   "metadata": {},
   "outputs": [],
   "source": [
    "#Build Pie Chart\n",
    "labels = [\"Rural\", \"Suburban\", \"Urban\"]\n",
    "\n",
    "colors = [\"gold\", \"skyblue\", \"coral\"]\n",
    "\n",
    "explode = (0, 0, 0.1)\n",
    "\n",
    "plt.pie(city_rides, explode=explode, labels=labels, colors=colors, autopct=\"%1.1f%%\", shadow=True, startangle=140)\n",
    "\n",
    "plt.axis(\"equal\")\n",
    "\n",
    "plt.title(\"% of Total Rides by City Type\")\n",
    "\n",
    "# Save Figure\n",
    "plt.savefig(\"Images/TotalRidesByCityType.png\", bbox_inches=\"tight\")\n",
    "\n",
    "#Show plot\n",
    "plt.show()"
   ]
  },
  {
   "cell_type": "markdown",
   "metadata": {},
   "source": [
    "## Total Drivers by City Type"
   ]
  },
  {
   "cell_type": "code",
   "execution_count": null,
   "metadata": {},
   "outputs": [],
   "source": [
    "# Calculate Driver Percents\n",
    "city_driver = city_df.groupby(['type'])\n",
    "driver_count = city_driver['driver_count'].sum()\n",
    "driver_count\n"
   ]
  },
  {
   "cell_type": "code",
   "execution_count": null,
   "metadata": {
    "scrolled": true
   },
   "outputs": [],
   "source": [
    "#Build Pie Chart\n",
    "labels = [\"Rural\", \"Suburban\", \"Urban\"]\n",
    "\n",
    "colors = [\"gold\", \"skyblue\", \"coral\"]\n",
    "\n",
    "explode = (0, 0, 0.1)\n",
    "\n",
    "plt.pie(driver_count, explode=explode, labels=labels, colors=colors, autopct=\"%1.1f%%\", shadow=True, startangle=140)\n",
    "\n",
    "plt.axis(\"equal\")\n",
    "\n",
    "plt.title(\"% of Total Drivers by City Type\")\n",
    "\n",
    "# Save Figure\n",
    "plt.savefig(\"Images/TotalDriversByCityType.png\", bbox_inches=\"tight\")\n",
    "\n",
    "#Show plot\n",
    "plt.show()\n"
   ]
  },
  {
   "cell_type": "code",
   "execution_count": null,
   "metadata": {},
   "outputs": [],
   "source": []
  }
 ],
 "metadata": {
  "anaconda-cloud": {},
  "kernelspec": {
   "display_name": "Python 3",
   "language": "python",
   "name": "python3"
  },
  "language_info": {
   "codemirror_mode": {
    "name": "ipython",
    "version": 3
   },
   "file_extension": ".py",
   "mimetype": "text/x-python",
   "name": "python",
   "nbconvert_exporter": "python",
   "pygments_lexer": "ipython3",
   "version": "3.7.3"
  }
 },
 "nbformat": 4,
 "nbformat_minor": 2
}
